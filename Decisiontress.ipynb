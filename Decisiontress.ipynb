{
 "cells": [
  {
   "cell_type": "code",
   "execution_count": null,
   "id": "b878bdf3-b99b-450d-a234-e7d30c67e8d2",
   "metadata": {},
   "outputs": [],
   "source": [
    "import pyspark\n",
    "import os\n",
    "from pyspark.sql import SparkSession\n",
    "from pyspark.sql.types import DoubleType\n",
    "from pyspark.sql.functions import col\n",
    "spark = SparkSession.builder.getOrCreate()\n",
    "data_without_header = spark.read.option(\"inferSchema\",True).option(\"header\",False).csv(\"data/covtype.data\")\n",
    "print(data_without_header.summary)\n",
    "colnames = [\"Elevation\",\"Aspect\",\"Slope\",\"Horizontal_Distance_To_Hydrology\",\"Vertical_Distance_To_Hydrology\",\\\n",
    "           \"Horizontal_Distance_To_Roadways\",\"Hillshade_9am\",\"Hillshade_noon\",\"Hillshade_3pm\",\\\n",
    "           \"Horizontal_Distance_To_Fire_Points\"] + \\\n",
    "           [f\"Wilderness_Area_{i}\" for i in range(4)] + [f\"Soil_Type_{i}\" for i in range(40)] + [\"Cover_Type\"]\n",
    "data_without_header.printSchema()\n",
    "data = data_without_header.toDF(*colnames).withColumn(\"Cover_Type\",col(\"Cover_Type\").cast(DoubleType()))\n",
    "print(data.summary)\n",
    "train_data,test_data = data.randomSplit([0.9,0.1])\n",
    "from pyspark.ml.feature import VectorAssembler\n",
    "input_cols = colnames[:-1]\n",
    "vector_assembler = VectorAssembler(inputCols = input_cols,outputCol = \"featureVector\")\n",
    "assembled_train_data = vector_assembler.transform(train_data)\n",
    "assembled_train_data.select(\"featureVector\").show(truncate=False)\n",
    "from pyspark.ml.classification import DecisionTreeClassifier\n",
    "classifier = DecisionTreeClassifier(seed=1234,labelCol=\"Cover_Type\",featuresCol=\"featureVector\",predictionCol=\"prediction\")\n",
    "model=classifier.fit(assembled_train_data)\n",
    "print(model.toDebugString)\n",
    "import pandas as pd\n",
    "pd.DataFrame(model.featureImportances.toArray(),index=input_cols,columns=['importance']).sort_values(by=\"importance\",ascending=False)\n",
    "from pyspark.ml.evaluation import MulticlassClassificationEvaluator\n",
    "predictions = model.transform(assembled_train_data)\n",
    "predictions.select(\"Cover_Type\",\"prediction\",\"probability\").show(10,truncate=False)\n",
    "evaluator=MulticlassClassificationEvaluator(labelCol=\"Cover_Type\",predictionCol=\"prediction\")\n",
    "evaluator.setMetricName(\"accuracy\").evaluate(predictions)\n",
    "evaluator.setMetricName(\"f1\").evaluate(predictions)"
   ]
  }
 ],
 "metadata": {
  "kernelspec": {
   "display_name": "Python 3 (ipykernel)",
   "language": "python",
   "name": "python3"
  },
  "language_info": {
   "codemirror_mode": {
    "name": "ipython",
    "version": 3
   },
   "file_extension": ".py",
   "mimetype": "text/x-python",
   "name": "python",
   "nbconvert_exporter": "python",
   "pygments_lexer": "ipython3",
   "version": "3.11.7"
  }
 },
 "nbformat": 4,
 "nbformat_minor": 5
}
