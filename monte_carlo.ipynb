{
 "cells": [
  {
   "cell_type": "code",
   "execution_count": 1,
   "id": "ed0ecab2",
   "metadata": {},
   "outputs": [],
   "source": [
    "import pyspark\n",
    "import os\n",
    "import sys\n",
    "from pyspark import SparkContext\n",
    "os.environ['PYSPARK_PYTHON'] = sys.executable\n",
    "os.environ['PYSPARK_DRIVER_PYTHON'] = sys.executable\n",
    "from pyspark.sql import SparkSession\n",
    "spark = SparkSession.builder.config(\"spark.driver.memory\", \"16g\"). ,→appName('chapter_8').getOrCreate()\n",
    "stocks = spark.read.csv([\"data/stocksA/ABAX.csv\",\"data/stocksA/AAME.csv\",\"data/ ,→stocksA/AEPI.csv\"], header='true', inferSchema='true')\n",
    "from pyspark.sql.functions import col\n",
    "df = df.withColumn(\"Open\", col(\"Open\").cast(\"double \"))\n",
    "df = df.withColumn(\"High\", col(\"High\").cast(\"double \"))\n",
    "df = df.withColumn(\"Low\", col(\"Low\").cast(\"double \"))\n",
    "df = df.withColumn(\"Volume\", col(\"Volume\").cast(\"double \"))\n",
    "df.printSchema()\n",
    "import pyspark.sql.functions as f\n",
    "params={}\n",
    "for col in df.columns:\n",
    "  if col!='Date':\n",
    "    mean=df.agg(f.avg(col)).collect()[0][0]\n",
    "    std=df.agg(f.stddev(col)).collect()[0][0]\n",
    "    params[col]=[mean,std]\n",
    "\n",
    "for key,val in params.items():\n",
    "  print(key,val)\n",
    "from pyspark.sql.functions import udf\n",
    "from pyspark.sql.types import FloatType\n",
    "import numpy as np\n",
    "num_simulations = 1000\n",
    "\n",
    "@udf(FloatType())\n",
    "def open():\n",
    "  return np.random.normal(params['Open'][0],params['Open'][0])\n",
    "\n",
    "@udf(FloatType())\n",
    "def High():\n",
    "  return np.random.normal(params['High'][0],params['High'][0])\n",
    "\n",
    "@udf(FloatType())\n",
    "def Low():\n",
    "  return np.random.normal(params['Low'][0],params['Low'][0])\n",
    "\n",
    "@udf(FloatType())\n",
    "def Close():\n",
    "  return np.random.normal(params['Close'][0],params['Close'][0])\n",
    "\n",
    "@udf(FloatType())\n",
    "def Volume():\n",
    "  return np.random.normal(params['Volume'][0],params['Volume'][0])\n",
    "simulated_prices_df = df.select(\n",
    "    open().alias(\"simulated_open\"),\n",
    "    Close().alias(\"simulated_close\"),\n",
    "    High().alias(\"simulated_high\"),\n",
    "    Low().alias(\"simulated_low\"),\n",
    "    Volume().alias(\"simulated_vol\")\n",
    ")\n",
    "simulated_prices_df.show()"
   ]
  },
  {
   "cell_type": "code",
   "execution_count": null,
   "id": "2f71e6e5",
   "metadata": {},
   "outputs": [],
   "source": []
  }
 ],
 "metadata": {
  "kernelspec": {
   "display_name": "Python 3 (ipykernel)",
   "language": "python",
   "name": "python3"
  },
  "language_info": {
   "codemirror_mode": {
    "name": "ipython",
    "version": 3
   },
   "file_extension": ".py",
   "mimetype": "text/x-python",
   "name": "python",
   "nbconvert_exporter": "python",
   "pygments_lexer": "ipython3",
   "version": "3.10.9"
  }
 },
 "nbformat": 4,
 "nbformat_minor": 5
}
